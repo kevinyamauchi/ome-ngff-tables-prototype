{
 "cells": [
  {
   "cell_type": "markdown",
   "id": "7851ceb6",
   "metadata": {},
   "source": [
    "#\n",
    "use jupytext --to notebook merfish.py to convert this file to a jupyter notebook"
   ]
  },
  {
   "cell_type": "code",
   "execution_count": 1,
   "id": "15509018",
   "metadata": {},
   "outputs": [],
   "source": [
    "##\n",
    "import pandas as pd\n",
    "import numpy as np\n",
    "import anndata as ad\n",
    "import scanpy as sc\n",
    "import json\n",
    "import matplotlib\n",
    "import matplotlib.pyplot as plt\n",
    "import os\n",
    "import pathlib\n",
    "import math"
   ]
  },
  {
   "cell_type": "code",
   "execution_count": 2,
   "id": "6112494a",
   "metadata": {},
   "outputs": [],
   "source": [
    "plt.style.use(\"dark_background\")"
   ]
  },
  {
   "cell_type": "code",
   "execution_count": 3,
   "id": "d875a55b",
   "metadata": {
    "lines_to_next_cell": 1
   },
   "outputs": [],
   "source": [
    "##\n",
    "output_dir = \"notebooks/merfish/output\"\n",
    "os.makedirs(output_dir, exist_ok=True)"
   ]
  },
  {
   "cell_type": "code",
   "execution_count": 4,
   "id": "3a892202",
   "metadata": {},
   "outputs": [],
   "source": [
    "##\n",
    "class BoundingBox:\n",
    "    pass"
   ]
  },
  {
   "cell_type": "code",
   "execution_count": 5,
   "id": "1ff060c3",
   "metadata": {},
   "outputs": [],
   "source": [
    "small_bb = BoundingBox()\n",
    "small_bb.x0 = 2000\n",
    "small_bb.x1 = 2400\n",
    "small_bb.y0 = 4800\n",
    "small_bb.y1 = 5200"
   ]
  },
  {
   "cell_type": "code",
   "execution_count": 6,
   "id": "46f40f17",
   "metadata": {
    "lines_to_next_cell": 2
   },
   "outputs": [],
   "source": [
    "bb = BoundingBox()\n",
    "bb.x0 = 1154\n",
    "bb.x1 = 3172\n",
    "bb.y0 = 4548\n",
    "bb.y1 = 6566"
   ]
  },
  {
   "cell_type": "markdown",
   "id": "367370f4",
   "metadata": {},
   "source": [
    "#"
   ]
  },
  {
   "cell_type": "code",
   "execution_count": 7,
   "id": "db1b4254",
   "metadata": {},
   "outputs": [
    {
     "ename": "FileNotFoundError",
     "evalue": "[Errno 2] No such file or directory: 'notebooks/merfish/data/Allen_MERFISH_spots_with_anatomy.csv'",
     "output_type": "error",
     "traceback": [
      "\u001b[0;31m---------------------------------------------------------------------------\u001b[0m",
      "\u001b[0;31mFileNotFoundError\u001b[0m                         Traceback (most recent call last)",
      "\u001b[0;32m/tmp/ipykernel_19847/1585776734.py\u001b[0m in \u001b[0;36m<module>\u001b[0;34m\u001b[0m\n\u001b[1;32m      1\u001b[0m \u001b[0;31m# loads point data\u001b[0m\u001b[0;34m\u001b[0m\u001b[0;34m\u001b[0m\u001b[0m\n\u001b[0;32m----> 2\u001b[0;31m \u001b[0mdf\u001b[0m \u001b[0;34m=\u001b[0m \u001b[0mpd\u001b[0m\u001b[0;34m.\u001b[0m\u001b[0mread_csv\u001b[0m\u001b[0;34m(\u001b[0m\u001b[0;34m\"notebooks/merfish/data/Allen_MERFISH_spots_with_anatomy.csv\"\u001b[0m\u001b[0;34m)\u001b[0m\u001b[0;34m\u001b[0m\u001b[0;34m\u001b[0m\u001b[0m\n\u001b[0m\u001b[1;32m      3\u001b[0m \u001b[0mplt\u001b[0m\u001b[0;34m.\u001b[0m\u001b[0mfigure\u001b[0m\u001b[0;34m(\u001b[0m\u001b[0mfigsize\u001b[0m\u001b[0;34m=\u001b[0m\u001b[0;34m(\u001b[0m\u001b[0;36m10\u001b[0m\u001b[0;34m,\u001b[0m \u001b[0;36m10\u001b[0m\u001b[0;34m)\u001b[0m\u001b[0;34m)\u001b[0m\u001b[0;34m\u001b[0m\u001b[0;34m\u001b[0m\u001b[0m\n\u001b[1;32m      4\u001b[0m \u001b[0mpoints_bb\u001b[0m \u001b[0;34m=\u001b[0m \u001b[0mbb\u001b[0m\u001b[0;34m\u001b[0m\u001b[0;34m\u001b[0m\u001b[0m\n\u001b[1;32m      5\u001b[0m df = df[\n",
      "\u001b[0;32m~/miniconda3/envs/39/lib/python3.9/site-packages/pandas/util/_decorators.py\u001b[0m in \u001b[0;36mwrapper\u001b[0;34m(*args, **kwargs)\u001b[0m\n\u001b[1;32m    309\u001b[0m                     \u001b[0mstacklevel\u001b[0m\u001b[0;34m=\u001b[0m\u001b[0mstacklevel\u001b[0m\u001b[0;34m,\u001b[0m\u001b[0;34m\u001b[0m\u001b[0;34m\u001b[0m\u001b[0m\n\u001b[1;32m    310\u001b[0m                 )\n\u001b[0;32m--> 311\u001b[0;31m             \u001b[0;32mreturn\u001b[0m \u001b[0mfunc\u001b[0m\u001b[0;34m(\u001b[0m\u001b[0;34m*\u001b[0m\u001b[0margs\u001b[0m\u001b[0;34m,\u001b[0m \u001b[0;34m**\u001b[0m\u001b[0mkwargs\u001b[0m\u001b[0;34m)\u001b[0m\u001b[0;34m\u001b[0m\u001b[0;34m\u001b[0m\u001b[0m\n\u001b[0m\u001b[1;32m    312\u001b[0m \u001b[0;34m\u001b[0m\u001b[0m\n\u001b[1;32m    313\u001b[0m         \u001b[0;32mreturn\u001b[0m \u001b[0mwrapper\u001b[0m\u001b[0;34m\u001b[0m\u001b[0;34m\u001b[0m\u001b[0m\n",
      "\u001b[0;32m~/miniconda3/envs/39/lib/python3.9/site-packages/pandas/io/parsers/readers.py\u001b[0m in \u001b[0;36mread_csv\u001b[0;34m(filepath_or_buffer, sep, delimiter, header, names, index_col, usecols, squeeze, prefix, mangle_dupe_cols, dtype, engine, converters, true_values, false_values, skipinitialspace, skiprows, skipfooter, nrows, na_values, keep_default_na, na_filter, verbose, skip_blank_lines, parse_dates, infer_datetime_format, keep_date_col, date_parser, dayfirst, cache_dates, iterator, chunksize, compression, thousands, decimal, lineterminator, quotechar, quoting, doublequote, escapechar, comment, encoding, encoding_errors, dialect, error_bad_lines, warn_bad_lines, on_bad_lines, delim_whitespace, low_memory, memory_map, float_precision, storage_options)\u001b[0m\n\u001b[1;32m    584\u001b[0m     \u001b[0mkwds\u001b[0m\u001b[0;34m.\u001b[0m\u001b[0mupdate\u001b[0m\u001b[0;34m(\u001b[0m\u001b[0mkwds_defaults\u001b[0m\u001b[0;34m)\u001b[0m\u001b[0;34m\u001b[0m\u001b[0;34m\u001b[0m\u001b[0m\n\u001b[1;32m    585\u001b[0m \u001b[0;34m\u001b[0m\u001b[0m\n\u001b[0;32m--> 586\u001b[0;31m     \u001b[0;32mreturn\u001b[0m \u001b[0m_read\u001b[0m\u001b[0;34m(\u001b[0m\u001b[0mfilepath_or_buffer\u001b[0m\u001b[0;34m,\u001b[0m \u001b[0mkwds\u001b[0m\u001b[0;34m)\u001b[0m\u001b[0;34m\u001b[0m\u001b[0;34m\u001b[0m\u001b[0m\n\u001b[0m\u001b[1;32m    587\u001b[0m \u001b[0;34m\u001b[0m\u001b[0m\n\u001b[1;32m    588\u001b[0m \u001b[0;34m\u001b[0m\u001b[0m\n",
      "\u001b[0;32m~/miniconda3/envs/39/lib/python3.9/site-packages/pandas/io/parsers/readers.py\u001b[0m in \u001b[0;36m_read\u001b[0;34m(filepath_or_buffer, kwds)\u001b[0m\n\u001b[1;32m    480\u001b[0m \u001b[0;34m\u001b[0m\u001b[0m\n\u001b[1;32m    481\u001b[0m     \u001b[0;31m# Create the parser.\u001b[0m\u001b[0;34m\u001b[0m\u001b[0;34m\u001b[0m\u001b[0m\n\u001b[0;32m--> 482\u001b[0;31m     \u001b[0mparser\u001b[0m \u001b[0;34m=\u001b[0m \u001b[0mTextFileReader\u001b[0m\u001b[0;34m(\u001b[0m\u001b[0mfilepath_or_buffer\u001b[0m\u001b[0;34m,\u001b[0m \u001b[0;34m**\u001b[0m\u001b[0mkwds\u001b[0m\u001b[0;34m)\u001b[0m\u001b[0;34m\u001b[0m\u001b[0;34m\u001b[0m\u001b[0m\n\u001b[0m\u001b[1;32m    483\u001b[0m \u001b[0;34m\u001b[0m\u001b[0m\n\u001b[1;32m    484\u001b[0m     \u001b[0;32mif\u001b[0m \u001b[0mchunksize\u001b[0m \u001b[0;32mor\u001b[0m \u001b[0miterator\u001b[0m\u001b[0;34m:\u001b[0m\u001b[0;34m\u001b[0m\u001b[0;34m\u001b[0m\u001b[0m\n",
      "\u001b[0;32m~/miniconda3/envs/39/lib/python3.9/site-packages/pandas/io/parsers/readers.py\u001b[0m in \u001b[0;36m__init__\u001b[0;34m(self, f, engine, **kwds)\u001b[0m\n\u001b[1;32m    809\u001b[0m             \u001b[0mself\u001b[0m\u001b[0;34m.\u001b[0m\u001b[0moptions\u001b[0m\u001b[0;34m[\u001b[0m\u001b[0;34m\"has_index_names\"\u001b[0m\u001b[0;34m]\u001b[0m \u001b[0;34m=\u001b[0m \u001b[0mkwds\u001b[0m\u001b[0;34m[\u001b[0m\u001b[0;34m\"has_index_names\"\u001b[0m\u001b[0;34m]\u001b[0m\u001b[0;34m\u001b[0m\u001b[0;34m\u001b[0m\u001b[0m\n\u001b[1;32m    810\u001b[0m \u001b[0;34m\u001b[0m\u001b[0m\n\u001b[0;32m--> 811\u001b[0;31m         \u001b[0mself\u001b[0m\u001b[0;34m.\u001b[0m\u001b[0m_engine\u001b[0m \u001b[0;34m=\u001b[0m \u001b[0mself\u001b[0m\u001b[0;34m.\u001b[0m\u001b[0m_make_engine\u001b[0m\u001b[0;34m(\u001b[0m\u001b[0mself\u001b[0m\u001b[0;34m.\u001b[0m\u001b[0mengine\u001b[0m\u001b[0;34m)\u001b[0m\u001b[0;34m\u001b[0m\u001b[0;34m\u001b[0m\u001b[0m\n\u001b[0m\u001b[1;32m    812\u001b[0m \u001b[0;34m\u001b[0m\u001b[0m\n\u001b[1;32m    813\u001b[0m     \u001b[0;32mdef\u001b[0m \u001b[0mclose\u001b[0m\u001b[0;34m(\u001b[0m\u001b[0mself\u001b[0m\u001b[0;34m)\u001b[0m\u001b[0;34m:\u001b[0m\u001b[0;34m\u001b[0m\u001b[0;34m\u001b[0m\u001b[0m\n",
      "\u001b[0;32m~/miniconda3/envs/39/lib/python3.9/site-packages/pandas/io/parsers/readers.py\u001b[0m in \u001b[0;36m_make_engine\u001b[0;34m(self, engine)\u001b[0m\n\u001b[1;32m   1038\u001b[0m             )\n\u001b[1;32m   1039\u001b[0m         \u001b[0;31m# error: Too many arguments for \"ParserBase\"\u001b[0m\u001b[0;34m\u001b[0m\u001b[0;34m\u001b[0m\u001b[0m\n\u001b[0;32m-> 1040\u001b[0;31m         \u001b[0;32mreturn\u001b[0m \u001b[0mmapping\u001b[0m\u001b[0;34m[\u001b[0m\u001b[0mengine\u001b[0m\u001b[0;34m]\u001b[0m\u001b[0;34m(\u001b[0m\u001b[0mself\u001b[0m\u001b[0;34m.\u001b[0m\u001b[0mf\u001b[0m\u001b[0;34m,\u001b[0m \u001b[0;34m**\u001b[0m\u001b[0mself\u001b[0m\u001b[0;34m.\u001b[0m\u001b[0moptions\u001b[0m\u001b[0;34m)\u001b[0m  \u001b[0;31m# type: ignore[call-arg]\u001b[0m\u001b[0;34m\u001b[0m\u001b[0;34m\u001b[0m\u001b[0m\n\u001b[0m\u001b[1;32m   1041\u001b[0m \u001b[0;34m\u001b[0m\u001b[0m\n\u001b[1;32m   1042\u001b[0m     \u001b[0;32mdef\u001b[0m \u001b[0m_failover_to_python\u001b[0m\u001b[0;34m(\u001b[0m\u001b[0mself\u001b[0m\u001b[0;34m)\u001b[0m\u001b[0;34m:\u001b[0m\u001b[0;34m\u001b[0m\u001b[0;34m\u001b[0m\u001b[0m\n",
      "\u001b[0;32m~/miniconda3/envs/39/lib/python3.9/site-packages/pandas/io/parsers/c_parser_wrapper.py\u001b[0m in \u001b[0;36m__init__\u001b[0;34m(self, src, **kwds)\u001b[0m\n\u001b[1;32m     49\u001b[0m \u001b[0;34m\u001b[0m\u001b[0m\n\u001b[1;32m     50\u001b[0m         \u001b[0;31m# open handles\u001b[0m\u001b[0;34m\u001b[0m\u001b[0;34m\u001b[0m\u001b[0m\n\u001b[0;32m---> 51\u001b[0;31m         \u001b[0mself\u001b[0m\u001b[0;34m.\u001b[0m\u001b[0m_open_handles\u001b[0m\u001b[0;34m(\u001b[0m\u001b[0msrc\u001b[0m\u001b[0;34m,\u001b[0m \u001b[0mkwds\u001b[0m\u001b[0;34m)\u001b[0m\u001b[0;34m\u001b[0m\u001b[0;34m\u001b[0m\u001b[0m\n\u001b[0m\u001b[1;32m     52\u001b[0m         \u001b[0;32massert\u001b[0m \u001b[0mself\u001b[0m\u001b[0;34m.\u001b[0m\u001b[0mhandles\u001b[0m \u001b[0;32mis\u001b[0m \u001b[0;32mnot\u001b[0m \u001b[0;32mNone\u001b[0m\u001b[0;34m\u001b[0m\u001b[0;34m\u001b[0m\u001b[0m\n\u001b[1;32m     53\u001b[0m \u001b[0;34m\u001b[0m\u001b[0m\n",
      "\u001b[0;32m~/miniconda3/envs/39/lib/python3.9/site-packages/pandas/io/parsers/base_parser.py\u001b[0m in \u001b[0;36m_open_handles\u001b[0;34m(self, src, kwds)\u001b[0m\n\u001b[1;32m    220\u001b[0m         \u001b[0mLet\u001b[0m \u001b[0mthe\u001b[0m \u001b[0mreaders\u001b[0m \u001b[0mopen\u001b[0m \u001b[0mIOHandles\u001b[0m \u001b[0mafter\u001b[0m \u001b[0mthey\u001b[0m \u001b[0mare\u001b[0m \u001b[0mdone\u001b[0m \u001b[0;32mwith\u001b[0m \u001b[0mtheir\u001b[0m \u001b[0mpotential\u001b[0m \u001b[0mraises\u001b[0m\u001b[0;34m.\u001b[0m\u001b[0;34m\u001b[0m\u001b[0;34m\u001b[0m\u001b[0m\n\u001b[1;32m    221\u001b[0m         \"\"\"\n\u001b[0;32m--> 222\u001b[0;31m         self.handles = get_handle(\n\u001b[0m\u001b[1;32m    223\u001b[0m             \u001b[0msrc\u001b[0m\u001b[0;34m,\u001b[0m\u001b[0;34m\u001b[0m\u001b[0;34m\u001b[0m\u001b[0m\n\u001b[1;32m    224\u001b[0m             \u001b[0;34m\"r\"\u001b[0m\u001b[0;34m,\u001b[0m\u001b[0;34m\u001b[0m\u001b[0;34m\u001b[0m\u001b[0m\n",
      "\u001b[0;32m~/miniconda3/envs/39/lib/python3.9/site-packages/pandas/io/common.py\u001b[0m in \u001b[0;36mget_handle\u001b[0;34m(path_or_buf, mode, encoding, compression, memory_map, is_text, errors, storage_options)\u001b[0m\n\u001b[1;32m    700\u001b[0m         \u001b[0;32mif\u001b[0m \u001b[0mioargs\u001b[0m\u001b[0;34m.\u001b[0m\u001b[0mencoding\u001b[0m \u001b[0;32mand\u001b[0m \u001b[0;34m\"b\"\u001b[0m \u001b[0;32mnot\u001b[0m \u001b[0;32min\u001b[0m \u001b[0mioargs\u001b[0m\u001b[0;34m.\u001b[0m\u001b[0mmode\u001b[0m\u001b[0;34m:\u001b[0m\u001b[0;34m\u001b[0m\u001b[0;34m\u001b[0m\u001b[0m\n\u001b[1;32m    701\u001b[0m             \u001b[0;31m# Encoding\u001b[0m\u001b[0;34m\u001b[0m\u001b[0;34m\u001b[0m\u001b[0m\n\u001b[0;32m--> 702\u001b[0;31m             handle = open(\n\u001b[0m\u001b[1;32m    703\u001b[0m                 \u001b[0mhandle\u001b[0m\u001b[0;34m,\u001b[0m\u001b[0;34m\u001b[0m\u001b[0;34m\u001b[0m\u001b[0m\n\u001b[1;32m    704\u001b[0m                 \u001b[0mioargs\u001b[0m\u001b[0;34m.\u001b[0m\u001b[0mmode\u001b[0m\u001b[0;34m,\u001b[0m\u001b[0;34m\u001b[0m\u001b[0;34m\u001b[0m\u001b[0m\n",
      "\u001b[0;31mFileNotFoundError\u001b[0m: [Errno 2] No such file or directory: 'notebooks/merfish/data/Allen_MERFISH_spots_with_anatomy.csv'"
     ]
    }
   ],
   "source": [
    "# loads point data\n",
    "df = pd.read_csv(\"notebooks/merfish/data/Allen_MERFISH_spots_with_anatomy.csv\")\n",
    "plt.figure(figsize=(10, 10))\n",
    "points_bb = bb\n",
    "df = df[\n",
    "    (df[\"x_um\"] > points_bb.x0)\n",
    "    & (df[\"x_um\"] < points_bb.x1)\n",
    "    & (df[\"y_um\"] > points_bb.y0)\n",
    "    & (df[\"y_um\"] < points_bb.y1)\n",
    "]\n",
    "xy = df[[\"x_um\", \"y_um\"]].to_numpy()\n",
    "a_points = ad.AnnData(xy)\n",
    "# a_points.obsm[\"spatial\"] = xy\n",
    "a_points.obsm[\"cell_type\"] = df[\"layer\"].to_numpy()\n",
    "# a_points.obs.columns = [\"0\"]\n",
    "a_points.write_h5ad(os.path.join(output_dir, \"points.h5ad\"))"
   ]
  },
  {
   "cell_type": "code",
   "execution_count": 8,
   "id": "f2265c1c",
   "metadata": {
    "lines_to_next_cell": 1
   },
   "outputs": [
    {
     "ename": "NameError",
     "evalue": "name 'xy' is not defined",
     "output_type": "error",
     "traceback": [
      "\u001b[0;31m---------------------------------------------------------------------------\u001b[0m",
      "\u001b[0;31mNameError\u001b[0m                                 Traceback (most recent call last)",
      "\u001b[0;32m/tmp/ipykernel_19847/2667802002.py\u001b[0m in \u001b[0;36m<module>\u001b[0;34m\u001b[0m\n\u001b[1;32m      1\u001b[0m \u001b[0;31m##\u001b[0m\u001b[0;34m\u001b[0m\u001b[0;34m\u001b[0m\u001b[0m\n\u001b[1;32m      2\u001b[0m \u001b[0mplt\u001b[0m\u001b[0;34m.\u001b[0m\u001b[0mfigure\u001b[0m\u001b[0;34m(\u001b[0m\u001b[0;34m)\u001b[0m\u001b[0;34m\u001b[0m\u001b[0;34m\u001b[0m\u001b[0m\n\u001b[0;32m----> 3\u001b[0;31m \u001b[0mplt\u001b[0m\u001b[0;34m.\u001b[0m\u001b[0mscatter\u001b[0m\u001b[0;34m(\u001b[0m\u001b[0mxy\u001b[0m\u001b[0;34m[\u001b[0m\u001b[0;34m:\u001b[0m\u001b[0;34m,\u001b[0m \u001b[0;36m0\u001b[0m\u001b[0;34m]\u001b[0m\u001b[0;34m,\u001b[0m \u001b[0mxy\u001b[0m\u001b[0;34m[\u001b[0m\u001b[0;34m:\u001b[0m\u001b[0;34m,\u001b[0m \u001b[0;36m1\u001b[0m\u001b[0;34m]\u001b[0m\u001b[0;34m,\u001b[0m \u001b[0ms\u001b[0m\u001b[0;34m=\u001b[0m\u001b[0;36m1\u001b[0m\u001b[0;34m)\u001b[0m\u001b[0;34m\u001b[0m\u001b[0;34m\u001b[0m\u001b[0m\n\u001b[0m\u001b[1;32m      4\u001b[0m \u001b[0mplt\u001b[0m\u001b[0;34m.\u001b[0m\u001b[0mgca\u001b[0m\u001b[0;34m(\u001b[0m\u001b[0;34m)\u001b[0m\u001b[0;34m.\u001b[0m\u001b[0mset_aspect\u001b[0m\u001b[0;34m(\u001b[0m\u001b[0;34m\"equal\"\u001b[0m\u001b[0;34m)\u001b[0m\u001b[0;34m\u001b[0m\u001b[0;34m\u001b[0m\u001b[0m\n\u001b[1;32m      5\u001b[0m \u001b[0mplt\u001b[0m\u001b[0;34m.\u001b[0m\u001b[0mshow\u001b[0m\u001b[0;34m(\u001b[0m\u001b[0;34m)\u001b[0m\u001b[0;34m\u001b[0m\u001b[0;34m\u001b[0m\u001b[0m\n",
      "\u001b[0;31mNameError\u001b[0m: name 'xy' is not defined"
     ]
    },
    {
     "data": {
      "text/plain": [
       "<Figure size 432x288 with 0 Axes>"
      ]
     },
     "metadata": {},
     "output_type": "display_data"
    }
   ],
   "source": [
    "##\n",
    "plt.figure()\n",
    "plt.scatter(xy[:, 0], xy[:, 1], s=1)\n",
    "plt.gca().set_aspect(\"equal\")\n",
    "plt.show()"
   ]
  },
  {
   "cell_type": "code",
   "execution_count": null,
   "id": "71182abb",
   "metadata": {},
   "outputs": [],
   "source": [
    "##\n",
    "def plot_single_molecule_anndata(adata: ad.AnnData, ax=None):\n",
    "    xy = adata.X\n",
    "    c = adata.obsm[\"cell_type\"]\n",
    "    if ax is None:\n",
    "        plt.figure(figsize=(10, 10))\n",
    "        cax = plt.gca()\n",
    "    else:\n",
    "        cax = ax\n",
    "    all_types = list(set(c))\n",
    "    cax.scatter(xy[:, 0], xy[:, 1], s=1, c=[all_types.index(cc) for cc in c])\n",
    "    cax.set_aspect(\"equal\")\n",
    "    if ax is None:\n",
    "        plt.show()"
   ]
  },
  {
   "cell_type": "code",
   "execution_count": null,
   "id": "4c887ac1",
   "metadata": {},
   "outputs": [],
   "source": [
    "plot_single_molecule_anndata(a_points)"
   ]
  },
  {
   "cell_type": "code",
   "execution_count": null,
   "id": "385b0e16",
   "metadata": {},
   "outputs": [],
   "source": [
    "##\n",
    "# loads single cell masks data\n",
    "df = pd.read_csv(\"notebooks/merfish/data/fixed_1001844875.csv\")\n",
    "df.drop(columns=[df.columns[0], df.columns[1]], inplace=True)\n",
    "df[\"radius\"] = df[\"area\"].apply(lambda x: math.sqrt(x / math.pi))\n",
    "genes = df.columns.tolist()\n",
    "genes = genes[: genes.index(\"area\")]\n",
    "xy = df[[\"x_um\", \"y_um\"]].to_numpy()"
   ]
  },
  {
   "cell_type": "code",
   "execution_count": null,
   "id": "7baa5698",
   "metadata": {
    "lines_to_next_cell": 1
   },
   "outputs": [],
   "source": [
    "a_cells = ad.AnnData(X=df[genes])\n",
    "a_cells.obsm[\"spatial\"] = xy\n",
    "a_cells.obsm[\"region_radius\"] = df[\"radius\"].to_numpy()\n",
    "a_cells.write_h5ad(os.path.join(output_dir, \"cells.h5ad\"))"
   ]
  },
  {
   "cell_type": "code",
   "execution_count": null,
   "id": "6cfc2b8a",
   "metadata": {},
   "outputs": [],
   "source": [
    "##\n",
    "def plot_shape_masks_anndata(adata: ad.AnnData, ax=None):\n",
    "    if ax is None:\n",
    "        plt.figure(figsize=(10, 10))\n",
    "        cax = plt.gca()\n",
    "    else:\n",
    "        cax = ax\n",
    "    xy = adata.obsm[\"spatial\"]\n",
    "    radius = adata.obsm[\"region_radius\"]\n",
    "    patches = []\n",
    "    for (x, y), r in zip(xy, radius):\n",
    "        if bb.x0 - r < x < bb.x1 + r and bb.y0 - r < y < bb.y1 + r:\n",
    "            patch = matplotlib.patches.Circle(\n",
    "                (x, y), r, color=np.append(np.random.rand(3), 0.3)\n",
    "            )\n",
    "            patches.append(patch)\n",
    "    p = matplotlib.collections.PatchCollection(patches, match_original=True)\n",
    "    cax.add_collection(p)\n",
    "    cax.set(xlim=(bb.x0, bb.x1), ylim=(bb.y0, bb.y1))\n",
    "    cax.set_aspect(\"equal\")\n",
    "    if ax is None:\n",
    "        plt.show()"
   ]
  },
  {
   "cell_type": "code",
   "execution_count": null,
   "id": "f6896de1",
   "metadata": {},
   "outputs": [],
   "source": [
    "plot_shape_masks_anndata(a_cells)"
   ]
  },
  {
   "cell_type": "markdown",
   "id": "2274ce87",
   "metadata": {},
   "source": [
    "#"
   ]
  },
  {
   "cell_type": "code",
   "execution_count": null,
   "id": "657b5425",
   "metadata": {},
   "outputs": [],
   "source": [
    "# generate the raster image\n",
    "import datashader\n",
    "import colorcet"
   ]
  },
  {
   "cell_type": "code",
   "execution_count": null,
   "id": "3dccfbf5",
   "metadata": {},
   "outputs": [],
   "source": [
    "df = pd.read_csv(\"notebooks/merfish/data/Allen_MERFISH_spots_with_anatomy.csv\")\n",
    "df[\"datashader\"] = np.array([1] * len(df))\n",
    "raster_w = 600\n",
    "raster_h = 600\n",
    "cvs = datashader.Canvas(plot_width=raster_w, plot_height=raster_h)\n",
    "# agg = cvs.points(df, x=\"x_um\", y=\"y_um\", agg=datashader.any())\n",
    "agg = cvs.points(df, x=\"x_um\", y=\"y_um\", agg=datashader.count())\n",
    "# img = datashader.tf.shade(agg)\n",
    "# raster = img.to_numpy()\n",
    "raster = agg.to_numpy()\n",
    "raster = raster.astype(np.float64)\n",
    "raster /= raster.max()\n",
    "# raster = np.flipud(raster)\n",
    "# raster = np.log(1 + raster)"
   ]
  },
  {
   "cell_type": "code",
   "execution_count": null,
   "id": "c0167be1",
   "metadata": {},
   "outputs": [],
   "source": [
    "plt.figure()\n",
    "len(df)\n",
    "# plt.hist(raster.flatten())\n",
    "plt.hist(raster)\n",
    "# plt.hist(raster.flatten()[raster.flatten() >1000], bins=1000)\n",
    "plt.show()"
   ]
  },
  {
   "cell_type": "code",
   "execution_count": null,
   "id": "6b275797",
   "metadata": {
    "lines_to_next_cell": 2
   },
   "outputs": [],
   "source": [
    "##\n",
    "# let's manually adjust the levels to make the image brighter in this example\n",
    "raster = np.clip(raster, a_min=0.0, a_max=0.2)\n",
    "raster *= 5\n",
    "#\n",
    "# plt.figure()\n",
    "# plt.imshow(raster, origin='lower')\n",
    "# plt.xlim([400, 425])\n",
    "# plt.ylim([175, 200])\n",
    "# plt.show()"
   ]
  },
  {
   "cell_type": "code",
   "execution_count": null,
   "id": "78b4e124",
   "metadata": {},
   "outputs": [],
   "source": [
    "##\n",
    "plt.figure()\n",
    "plt.imshow(\n",
    "    raster,\n",
    "    extent=(df[\"x_um\"].min(), df[\"x_um\"].max(), df[\"y_um\"].min(), df[\"y_um\"].max()),\n",
    "    origin=\"lower\",\n",
    ")\n",
    "plt.scatter(df[\"x_um\"], df[\"y_um\"], s=1, alpha=0.01)\n",
    "plt.show()"
   ]
  },
  {
   "cell_type": "code",
   "execution_count": null,
   "id": "a56f509e",
   "metadata": {},
   "outputs": [],
   "source": [
    "##\n",
    "min_x = df[\"x_um\"].min()\n",
    "min_y = df[\"y_um\"].min()\n",
    "max_x = df[\"x_um\"].max()\n",
    "max_y = df[\"y_um\"].max()"
   ]
  },
  {
   "cell_type": "code",
   "execution_count": null,
   "id": "d38db87a",
   "metadata": {},
   "outputs": [],
   "source": [
    "raster_bb = BoundingBox()\n",
    "raster_bb.x0 = int((bb.x0 - min_x) / (max_x - min_x) * raster_w)\n",
    "raster_bb.x1 = int((bb.x1 - min_x) / (max_x - min_x) * raster_w)\n",
    "raster_bb.y0 = int((bb.y0 - min_y) / (max_y - min_y) * raster_h)\n",
    "raster_bb.y1 = int((bb.y1 - min_y) / (max_y - min_y) * raster_h)\n",
    "print(\n",
    "    f\"raster_bb.x0 = {raster_bb.x0}, raster_bb.x1 = {raster_bb.x1}, raster_bb.y0 = {raster_bb.y0}, raster_bb.y1 = {raster_bb.y1}\"\n",
    ")"
   ]
  },
  {
   "cell_type": "code",
   "execution_count": null,
   "id": "04c60592",
   "metadata": {},
   "outputs": [],
   "source": [
    "# raster_crop = np.flipud(np.flipud(raster)[raster_bb.y0 : raster_bb.y1, raster_bb.x0 : raster_bb.x1])\n",
    "raster_crop = raster[raster_bb.y0 : raster_bb.y1, raster_bb.x0 : raster_bb.x1]\n",
    "print(raster_crop.shape)"
   ]
  },
  {
   "cell_type": "code",
   "execution_count": null,
   "id": "7e6c4d25",
   "metadata": {},
   "outputs": [],
   "source": [
    "plt.figure()\n",
    "plt.imshow(raster_crop, origin=\"lower\")\n",
    "plt.show()\n",
    "##\n",
    "translation = np.array([bb.x0, bb.y0])\n",
    "# assert bb.x1 - bb.x0 == bb.y1 - bb.y0\n",
    "# assert raster_w == raster_h\n",
    "scale_factor_x = (max_x - min_x) / raster_w\n",
    "scale_factor_y = (max_y - min_y) / raster_h\n",
    "scale_factors = np.array([scale_factor_x, scale_factor_y])\n",
    "# wrong\n",
    "# scale_factor = (bb.x1 - bb.x0) / raster_w\n",
    "##\n",
    "np.save(os.path.join(output_dir, \"image\"), raster_crop)"
   ]
  },
  {
   "cell_type": "code",
   "execution_count": null,
   "id": "d61adc4e",
   "metadata": {},
   "outputs": [],
   "source": [
    "d = {}\n",
    "d[\"translation_x\"] = float(translation[0])\n",
    "d[\"translation_y\"] = float(translation[1])\n",
    "d[\"scale_factor_x\"] = scale_factor_x\n",
    "d[\"scale_factor_y\"] = scale_factor_y\n",
    "with open(os.path.join(output_dir, \"image_transform.json\"), \"w\") as outfile:\n",
    "    json.dump(d, fp=outfile)"
   ]
  },
  {
   "cell_type": "code",
   "execution_count": null,
   "id": "fe37c627",
   "metadata": {},
   "outputs": [],
   "source": [
    "##\n",
    "print(f\"translation = {translation}, scale_factor = {scale_factors}\")\n",
    "x0 = translation[0]\n",
    "y0 = translation[1]\n",
    "x1 = translation[0] + raster.shape[1] * scale_factor_x\n",
    "y1 = translation[1] + raster.shape[0] * scale_factor_y\n",
    "extent = (x0, x1, y0, y1)\n",
    "print(extent)"
   ]
  },
  {
   "cell_type": "code",
   "execution_count": null,
   "id": "fae13d47",
   "metadata": {
    "lines_to_next_cell": 2
   },
   "outputs": [],
   "source": [
    "plt.figure()\n",
    "plt.imshow(raster_crop, extent=extent, origin=\"lower\")\n",
    "plt.show()\n",
    "##"
   ]
  },
  {
   "cell_type": "code",
   "execution_count": null,
   "id": "7e62ec46",
   "metadata": {},
   "outputs": [],
   "source": [
    "# first translation, then scaling\n",
    "def plot_raster(\n",
    "    raster: np.ndarray, translation: np.array, scale_factors: np.array, ax=None\n",
    "):\n",
    "    assert len(translation) == 2\n",
    "    # grayscale image or rgb/rgba\n",
    "    assert (\n",
    "        len(raster.shape) == 2 or len(raster.shape) == 3 and raster.shape[2] in [3, 4]\n",
    "    )\n",
    "    if ax is None:\n",
    "        plt.figure(figsize=(10, 10))\n",
    "        cax = plt.gca()\n",
    "    else:\n",
    "        cax = ax\n",
    "    x0 = translation[0]\n",
    "    y0 = translation[1]\n",
    "    x1 = translation[0] + raster.shape[1] * scale_factors[0]\n",
    "    y1 = translation[1] + raster.shape[0] * scale_factors[1]\n",
    "    extent = (x0, x1, y0, y1)\n",
    "    cax.imshow(\n",
    "        raster_crop,\n",
    "        extent=extent,\n",
    "        cmap=plt.cm.get_cmap(\"gray\"),\n",
    "        alpha=0.4,\n",
    "        origin=\"lower\",\n",
    "    )\n",
    "    if ax is None:\n",
    "        plt.show()"
   ]
  },
  {
   "cell_type": "code",
   "execution_count": null,
   "id": "874aadf8",
   "metadata": {},
   "outputs": [],
   "source": [
    "plot_raster(raster, translation=translation, scale_factors=scale_factors)\n",
    "##\n",
    "# polygon information\n",
    "layers = json.load(open(\"notebooks/merfish/data/Allen_MERFISH_Layers.geojson\", \"r\"))\n",
    "layers"
   ]
  },
  {
   "cell_type": "code",
   "execution_count": null,
   "id": "956d824c",
   "metadata": {},
   "outputs": [],
   "source": [
    "##\n",
    "plt.figure(figsize=(10, 10))\n",
    "ax = plt.gca()\n",
    "plot_single_molecule_anndata(a_points, ax)\n",
    "plot_shape_masks_anndata(a_cells, ax)\n",
    "plot_raster(raster, translation=translation, scale_factors=scale_factors, ax=ax)\n",
    "plt.show()"
   ]
  },
  {
   "cell_type": "code",
   "execution_count": null,
   "id": "59dd1783",
   "metadata": {},
   "outputs": [],
   "source": [
    "##\n",
    "brain_layers = {}\n",
    "for layer in layers[\"geometries\"]:\n",
    "    assert layer[\"type\"] == \"Polygon\"\n",
    "    name = layer[\"name\"]\n",
    "    coordinates = np.array(layer[\"coordinates\"])\n",
    "    coordinates = np.squeeze(coordinates, 0)\n",
    "    brain_layers[name] = coordinates"
   ]
  },
  {
   "cell_type": "code",
   "execution_count": null,
   "id": "d4cff7a2",
   "metadata": {},
   "outputs": [],
   "source": [
    "##\n",
    "plt.figure()\n",
    "for layer, coordinates in brain_layers.items():\n",
    "    plt.plot(coordinates[:, 0], coordinates[:, 1])\n",
    "plt.gca().set_aspect(\"equal\")\n",
    "plt.legend(\n",
    "    [layer for layer in brain_layers.keys()],\n",
    "    loc=\"upper center\",\n",
    "    bbox_to_anchor=(0.5, 1.25),\n",
    "    ncol=3,\n",
    ")\n",
    "plt.tight_layout()\n",
    "plt.show()"
   ]
  },
  {
   "cell_type": "code",
   "execution_count": null,
   "id": "04a8ba59",
   "metadata": {},
   "outputs": [],
   "source": [
    "##\n",
    "a_polygon = ad.AnnData(None, obs=list(brain_layers.keys()))\n",
    "a_polygon.obs.columns = [\"layer\"]\n",
    "a_polygon.obs[\"vertices\"] = list(brain_layers.values())\n",
    "# temporary, inefficient arbitrary way of storing the coordinates\n",
    "a_polygon.obs[\"vertices\"] = a_polygon.obs[\"vertices\"].apply(lambda x: repr(x))\n",
    "a_polygon.write_h5ad(os.path.join(output_dir, \"polygons.h5ad\"))"
   ]
  }
 ],
 "metadata": {
  "jupytext": {
   "cell_metadata_filter": "-all",
   "main_language": "python",
   "notebook_metadata_filter": "-all"
  },
  "kernelspec": {
   "display_name": "39",
   "language": "python",
   "name": "39"
  },
  "language_info": {
   "codemirror_mode": {
    "name": "ipython",
    "version": 3
   },
   "file_extension": ".py",
   "mimetype": "text/x-python",
   "name": "python",
   "nbconvert_exporter": "python",
   "pygments_lexer": "ipython3",
   "version": "3.9.9"
  }
 },
 "nbformat": 4,
 "nbformat_minor": 5
}
